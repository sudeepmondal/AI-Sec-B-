{
 "cells": [
  {
   "cell_type": "markdown",
   "id": "af4fe3a9",
   "metadata": {},
   "source": [
    "1. Shift Left k Cells\n",
    "\n",
    "Consider an array named source. Write a method/function named shiftLeft( source, k) that shifts all the elements of the source array to the left by 'k' positions. You must execute the method by passing an array and number of cells to be shifted. After calling the method, print the array to show whether the elements have been shifted properly.\n",
    "\n",
    "Example:\n",
    "\n",
    "source=[10,20,30,40,50,60]\n",
    "\n",
    "shiftLeft(source,3)\n",
    "\n",
    "After calling shiftLeft(source,3), printing the array should give the output as:\n",
    "\n",
    "[ 40, 50, 60, 0, 0, 0 ]\n",
    "\n",
    "2. Rotate Left k cells\n",
    "\n",
    "Consider an array named source. Write a method/function named rotateLeft( source, k)\n",
    "that rotates all the elements of the source array to the left by 'k' positions. You must\n",
    "execute the method by passing an array and number of cells to be shifted. After calling\n",
    "the method, print the array to show whether the elements have been shifted properly.\n",
    "\n",
    "Example:\n",
    "\n",
    "source=[10,20,30,40,50,60]\n",
    "\n",
    "rotateLeft(source,3)\n",
    "\n",
    "After calling rotateLeft(source,3), printing the array should give the output as:\n",
    "\n",
    "[ 40, 50, 60, 10, 20, 30]\n",
    "\n",
    "3. Remove an element from an array\n",
    "\n",
    "Consider an array named source. Write a method/function named remove( source,\n",
    "size, idx) that removes the element in index idx of the source array. You must execute\n",
    "the method by passing an array, its size and the idx( that is the index of the element to\n",
    "be removed). After calling the method, print the array to show whether the element of\n",
    "that particular index has been removed properly.\n",
    "\n",
    "Example:\n",
    "\n",
    "source=[10,20,30,40,50,0,0]\n",
    "\n",
    "remove(source,5,2)\n",
    "\n",
    "After calling remove(source,5,2) , printing the array should give the output as:\n",
    "\n",
    "[ 10,20,40,50,0,0,0]\n",
    "\n",
    "4. Remove all occurrences of a particular element from an array\n",
    "\n",
    "Consider an array named source. Write a method/function named removeAll( source,\n",
    "size, element) that removes all the occurrences of the given element in the source\n",
    "array. You must execute the method by passing an array, its size and the element to be\n",
    "removed. After calling the method, print the array to show whether all the occurrences\n",
    "of the element have been removed properly.\n",
    "\n",
    "Example:\n",
    "\n",
    "source=[10,2,30,2,50,2,2,0,0]\n",
    "\n",
    "removeAll(source,7,2)\n",
    "\n",
    "After calling removeAll(source,7,2), all the occurrences of 2 must be removed. Printing\n",
    "the array afterwards should give the output as:\n",
    "\n",
    "[ 10,30,50,0,0,0,0,0,0]\n"
   ]
  },
  {
   "cell_type": "markdown",
   "id": "fe03c06b",
   "metadata": {},
   "source": [
    "1.1 Shift Left k Cells:"
   ]
  },
  {
   "cell_type": "code",
   "execution_count": 122,
   "id": "fdc723f2",
   "metadata": {},
   "outputs": [
    {
     "name": "stdout",
     "output_type": "stream",
     "text": [
      "[40, 50, 60, 0, 0, 0]\n"
     ]
    }
   ],
   "source": [
    "def shiftLeft(source, k):\n",
    "    for i in range(k, len(source)):\n",
    "        source[i - k] = source[i]\n",
    "        source[i] = 0\n",
    "\n",
    "source = [10, 20, 30, 40, 50, 60]\n",
    "shiftLeft(source, 3)\n",
    "print(source)\n"
   ]
  },
  {
   "cell_type": "markdown",
   "id": "e6bb02f9",
   "metadata": {},
   "source": [
    "1.2 Shift Right k Cells:"
   ]
  },
  {
   "cell_type": "code",
   "execution_count": 134,
   "id": "138e3bf2",
   "metadata": {},
   "outputs": [
    {
     "name": "stdout",
     "output_type": "stream",
     "text": [
      "[0, 0, 0, 10, 20, 30]\n"
     ]
    }
   ],
   "source": [
    "def shiftRight(source, k):\n",
    "    for i in range(k, len(source)):\n",
    "        source[i] = source[i - k]\n",
    "        source[i - k] = 0\n",
    "\n",
    "source = [10, 20, 30, 40, 50, 60]\n",
    "shiftRight(source, 3)\n",
    "print(source)"
   ]
  },
  {
   "cell_type": "markdown",
   "id": "3ac31542",
   "metadata": {},
   "source": [
    "2.1 Rotate Left k Cells:"
   ]
  },
  {
   "cell_type": "code",
   "execution_count": 142,
   "id": "d2a4b2f8",
   "metadata": {},
   "outputs": [
    {
     "name": "stdout",
     "output_type": "stream",
     "text": [
      "[40, 50, 60, 10, 20, 30]\n"
     ]
    }
   ],
   "source": [
    "def rotateLeft(source, k):\n",
    "    k = k % len(source)\n",
    "    source[:] = source[k:] + source[:k]\n",
    "\n",
    "source = [10, 20, 30, 40, 50, 60]\n",
    "rotateLeft(source, 3)\n",
    "print(source)\n"
   ]
  },
  {
   "cell_type": "markdown",
   "id": "1b19f41c",
   "metadata": {},
   "source": [
    "2.2 Rotate Right k Cells:"
   ]
  },
  {
   "cell_type": "code",
   "execution_count": 140,
   "id": "d0ade88f",
   "metadata": {},
   "outputs": [
    {
     "name": "stdout",
     "output_type": "stream",
     "text": [
      "[40, 50, 60, 10, 20, 30]\n"
     ]
    }
   ],
   "source": [
    "def rotateRight(source, k):\n",
    "    k = k % len(source)\n",
    "    source[:] = source[-k:] + source[:-k]\n",
    "\n",
    "source = [10, 20, 30, 40, 50, 60]\n",
    "rotateRight(source, 3)\n",
    "print(source)\n"
   ]
  },
  {
   "cell_type": "markdown",
   "id": "7b60a0f0",
   "metadata": {},
   "source": [
    "3. Remove an Element from an Array:"
   ]
  },
  {
   "cell_type": "code",
   "execution_count": 115,
   "id": "7dfb9e79",
   "metadata": {},
   "outputs": [
    {
     "name": "stdout",
     "output_type": "stream",
     "text": [
      "[10, 20, 40, 50, 0, 0, 0]\n"
     ]
    }
   ],
   "source": [
    "def remove(source, size, idx):\n",
    "    if 0 <= idx < size:\n",
    "        for i in range(idx, size - 1):\n",
    "            source[i] = source[i + 1]\n",
    "        source[size - 1] = 0\n",
    "\n",
    "source = [10, 20, 30, 40, 50, 0, 0]\n",
    "remove(source, 5, 2)\n",
    "print(source)\n"
   ]
  },
  {
   "cell_type": "markdown",
   "id": "22fbc9ab",
   "metadata": {},
   "source": [
    "4. Remove All Occurrences of a Particular Element:"
   ]
  },
  {
   "cell_type": "code",
   "execution_count": 84,
   "id": "5ac3718a",
   "metadata": {},
   "outputs": [
    {
     "name": "stdout",
     "output_type": "stream",
     "text": [
      "[10, 30, 50, 0, 0, 0, 0, 0, 0]\n"
     ]
    }
   ],
   "source": [
    "def removeAll(source, size, element):\n",
    "    i = 0\n",
    "    while i < size:\n",
    "        if source[i] == element:\n",
    "            for j in range(i, size - 1):\n",
    "                source[j] = source[j + 1]\n",
    "            source[size - 1] = 0\n",
    "            size -= 1\n",
    "        else:\n",
    "            i += 1\n",
    "\n",
    "source = [10, 2, 30, 2, 50, 2, 2, 0, 0]\n",
    "removeAll(source, 7, 2)\n",
    "print(source)\n"
   ]
  }
 ],
 "metadata": {
  "kernelspec": {
   "display_name": "Python 3 (ipykernel)",
   "language": "python",
   "name": "python3"
  },
  "language_info": {
   "codemirror_mode": {
    "name": "ipython",
    "version": 3
   },
   "file_extension": ".py",
   "mimetype": "text/x-python",
   "name": "python",
   "nbconvert_exporter": "python",
   "pygments_lexer": "ipython3",
   "version": "3.11.5"
  }
 },
 "nbformat": 4,
 "nbformat_minor": 5
}
